{
 "cells": [
  {
   "cell_type": "code",
   "execution_count": null,
   "id": "33dd15b5",
   "metadata": {},
   "outputs": [
    {
     "name": "stdout",
     "output_type": "stream",
     "text": [
      "Helloo there!!! After a long time!!\n",
      "This program prints prime numbers till a number provided as input\n"
     ]
    },
    {
     "ename": "ValueError",
     "evalue": "invalid literal for int() with base 10: '--f=/Users/shrikantkarve/Library/Jupyter/runtime/kernel-v330d4c0d9961a5122a8a730980feaa0e533765bed.json'",
     "output_type": "error",
     "traceback": [
      "\u001b[0;31m---------------------------------------------------------------------------\u001b[0m",
      "\u001b[0;31mValueError\u001b[0m                                Traceback (most recent call last)",
      "Cell \u001b[0;32mIn[2], line 9\u001b[0m\n\u001b[1;32m      5\u001b[0m \u001b[38;5;28mprint\u001b[39m(\u001b[38;5;124m\"\u001b[39m\u001b[38;5;124mHelloo there!!! After a long time!!\u001b[39m\u001b[38;5;124m\"\u001b[39m)\n\u001b[1;32m      7\u001b[0m \u001b[38;5;28mprint\u001b[39m(\u001b[38;5;124m\"\u001b[39m\u001b[38;5;124mThis program prints prime numbers till a number provided as input\u001b[39m\u001b[38;5;124m\"\u001b[39m)\n\u001b[0;32m----> 9\u001b[0m in_number \u001b[38;5;241m=\u001b[39m \u001b[38;5;28;43mint\u001b[39;49m\u001b[43m(\u001b[49m\u001b[43msys\u001b[49m\u001b[38;5;241;43m.\u001b[39;49m\u001b[43margv\u001b[49m\u001b[43m[\u001b[49m\u001b[38;5;241;43m1\u001b[39;49m\u001b[43m]\u001b[49m\u001b[43m)\u001b[49m\n\u001b[1;32m     11\u001b[0m \u001b[38;5;28mprint\u001b[39m(\u001b[38;5;124m\"\u001b[39m\u001b[38;5;124mNumber provided is \u001b[39m\u001b[38;5;124m\"\u001b[39m,in_number)\n\u001b[1;32m     13\u001b[0m primes \u001b[38;5;241m=\u001b[39m []\n",
      "\u001b[0;31mValueError\u001b[0m: invalid literal for int() with base 10: '--f=/Users/shrikantkarve/Library/Jupyter/runtime/kernel-v330d4c0d9961a5122a8a730980feaa0e533765bed.json'"
     ]
    }
   ],
   "source": [
    "#!/Users/shrikantkarve/opt/anaconda3/bin/python\n",
    "import sys\n",
    "import time\n",
    "\n",
    "print(\"Helloo there!!! After a long time!!\")\n",
    "\n",
    "print(\"This program prints prime numbers till a number provided as input\")\n",
    "\n",
    "# in_number = int(sys.argv[1])\n",
    "in_number = 10\n",
    "print(\"Number provided is \",in_number)\n",
    "\n",
    "primes = []\n",
    "is_prime = True\n",
    "# Add code to time the execution of the program\n",
    "start_time = time.time()\n",
    "# Add code to check if the input number is less than 2\n",
    "if in_number < 2:\n",
    "    print(\"Please provide a number greater than 1\")\n",
    "    sys.exit(1)\n",
    "\n",
    "for i in range(2,int(in_number)+1):\n",
    "    for factor in primes:\n",
    "        if i%factor == 0:\n",
    "            is_prime = False\n",
    "    if is_prime == True:\n",
    "        # print(\"Looks like \",i, \"is prime\")\n",
    "        primes.append(i)\n",
    "    is_prime = True\n",
    "print(\"Time taken : \", time.time() - start_time)\n",
    "print(\"The list of primes below \",in_number, \" is \", primes)\n"
   ]
  }
 ],
 "metadata": {
  "kernelspec": {
   "display_name": "Python 3",
   "language": "python",
   "name": "python3"
  },
  "language_info": {
   "codemirror_mode": {
    "name": "ipython",
    "version": 3
   },
   "file_extension": ".py",
   "mimetype": "text/x-python",
   "name": "python",
   "nbconvert_exporter": "python",
   "pygments_lexer": "ipython3",
   "version": "3.10.5"
  }
 },
 "nbformat": 4,
 "nbformat_minor": 5
}
